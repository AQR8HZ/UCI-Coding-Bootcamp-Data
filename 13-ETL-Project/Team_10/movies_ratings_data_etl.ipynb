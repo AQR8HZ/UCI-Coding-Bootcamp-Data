{
 "cells": [
  {
   "cell_type": "markdown",
   "metadata": {},
   "source": [
    "# ETL Project\n",
    "## Members:\n",
    "* Francisco Estevez\n",
    "* Alvin Kim\n",
    "### Data Sources\n",
    "We extracted data from the Machine Learning Course offered by Google\n",
    "https://developers.google.com/machine-learning/crash-course/\n",
    "The dataset we selected is part of the Data preparation of the course\n",
    "#### Collecting Data > The Size and Quality of a Data Set\n",
    "The data source contains 20 Millions of records:\n",
    "    * Movies from 1891 to 2015\n",
    "    * Rates\n",
    "    * Genome Scores\n",
    "#### Final database\n",
    "Our information is stored in Mongo DB:\n",
    "    * Movie Rates\n",
    "    * Movie Genome Scores"
   ]
  },
  {
   "cell_type": "markdown",
   "metadata": {},
   "source": [
    "### Notebook 3: Merge Movies and Ratings and output to MongoDB"
   ]
  },
  {
   "cell_type": "code",
   "execution_count": 1,
   "metadata": {},
   "outputs": [],
   "source": [
    "import pandas as pd\n",
    "from pymongo import MongoClient"
   ]
  },
  {
   "cell_type": "code",
   "execution_count": 2,
   "metadata": {},
   "outputs": [],
   "source": [
    "# The default port used by MongoDB is 27017\n",
    "# https://docs.mongodb.com/manual/reference/default-mongodb-port/\n",
    "conn = 'mongodb://localhost:27017'\n",
    "client = MongoClient(conn)"
   ]
  },
  {
   "cell_type": "code",
   "execution_count": 3,
   "metadata": {},
   "outputs": [],
   "source": [
    "# Declare the database\n",
    "movies_db = client.movies_db"
   ]
  },
  {
   "cell_type": "code",
   "execution_count": 4,
   "metadata": {},
   "outputs": [],
   "source": [
    "# Declare the collection\n",
    "ratings = movies_db.ratings"
   ]
  },
  {
   "cell_type": "markdown",
   "metadata": {},
   "source": [
    "#### Read cleansed Movies data file"
   ]
  },
  {
   "cell_type": "code",
   "execution_count": 5,
   "metadata": {},
   "outputs": [
    {
     "data": {
      "text/html": [
       "<div>\n",
       "<style scoped>\n",
       "    .dataframe tbody tr th:only-of-type {\n",
       "        vertical-align: middle;\n",
       "    }\n",
       "\n",
       "    .dataframe tbody tr th {\n",
       "        vertical-align: top;\n",
       "    }\n",
       "\n",
       "    .dataframe thead th {\n",
       "        text-align: right;\n",
       "    }\n",
       "</style>\n",
       "<table border=\"1\" class=\"dataframe\">\n",
       "  <thead>\n",
       "    <tr style=\"text-align: right;\">\n",
       "      <th></th>\n",
       "      <th>movieId</th>\n",
       "      <th>Movie</th>\n",
       "      <th>Years</th>\n",
       "      <th>Genres</th>\n",
       "    </tr>\n",
       "  </thead>\n",
       "  <tbody>\n",
       "    <tr>\n",
       "      <th>0</th>\n",
       "      <td>1</td>\n",
       "      <td>Toy Story</td>\n",
       "      <td>1995</td>\n",
       "      <td>['Adventure', 'Animation', 'Children', 'Comedy...</td>\n",
       "    </tr>\n",
       "    <tr>\n",
       "      <th>1</th>\n",
       "      <td>2</td>\n",
       "      <td>Jumanji</td>\n",
       "      <td>1995</td>\n",
       "      <td>['Adventure', 'Children', 'Fantasy']</td>\n",
       "    </tr>\n",
       "    <tr>\n",
       "      <th>2</th>\n",
       "      <td>3</td>\n",
       "      <td>Grumpier Old Men</td>\n",
       "      <td>1995</td>\n",
       "      <td>['Comedy', 'Romance']</td>\n",
       "    </tr>\n",
       "    <tr>\n",
       "      <th>3</th>\n",
       "      <td>4</td>\n",
       "      <td>Waiting to Exhale</td>\n",
       "      <td>1995</td>\n",
       "      <td>['Comedy', 'Drama', 'Romance']</td>\n",
       "    </tr>\n",
       "    <tr>\n",
       "      <th>4</th>\n",
       "      <td>5</td>\n",
       "      <td>Father of the Bride Part II</td>\n",
       "      <td>1995</td>\n",
       "      <td>['Comedy']</td>\n",
       "    </tr>\n",
       "  </tbody>\n",
       "</table>\n",
       "</div>"
      ],
      "text/plain": [
       "   movieId                         Movie  Years  \\\n",
       "0        1                    Toy Story    1995   \n",
       "1        2                      Jumanji    1995   \n",
       "2        3             Grumpier Old Men    1995   \n",
       "3        4            Waiting to Exhale    1995   \n",
       "4        5  Father of the Bride Part II    1995   \n",
       "\n",
       "                                              Genres  \n",
       "0  ['Adventure', 'Animation', 'Children', 'Comedy...  \n",
       "1               ['Adventure', 'Children', 'Fantasy']  \n",
       "2                              ['Comedy', 'Romance']  \n",
       "3                     ['Comedy', 'Drama', 'Romance']  \n",
       "4                                         ['Comedy']  "
      ]
     },
     "execution_count": 5,
     "metadata": {},
     "output_type": "execute_result"
    }
   ],
   "source": [
    "csv_file = \"Resources/cleansed_movies_data.csv\"\n",
    "movies_df = pd.read_csv(csv_file)\n",
    "movies_df.head()"
   ]
  },
  {
   "cell_type": "markdown",
   "metadata": {},
   "source": [
    "#### Read transformed Ratings data file"
   ]
  },
  {
   "cell_type": "code",
   "execution_count": 6,
   "metadata": {},
   "outputs": [
    {
     "data": {
      "text/html": [
       "<div>\n",
       "<style scoped>\n",
       "    .dataframe tbody tr th:only-of-type {\n",
       "        vertical-align: middle;\n",
       "    }\n",
       "\n",
       "    .dataframe tbody tr th {\n",
       "        vertical-align: top;\n",
       "    }\n",
       "\n",
       "    .dataframe thead th {\n",
       "        text-align: right;\n",
       "    }\n",
       "</style>\n",
       "<table border=\"1\" class=\"dataframe\">\n",
       "  <thead>\n",
       "    <tr style=\"text-align: right;\">\n",
       "      <th></th>\n",
       "      <th>movieId</th>\n",
       "      <th>count</th>\n",
       "      <th>mean</th>\n",
       "      <th>std</th>\n",
       "      <th>min</th>\n",
       "      <th>25%</th>\n",
       "      <th>50%</th>\n",
       "      <th>75%</th>\n",
       "      <th>max</th>\n",
       "    </tr>\n",
       "  </thead>\n",
       "  <tbody>\n",
       "    <tr>\n",
       "      <th>0</th>\n",
       "      <td>1</td>\n",
       "      <td>49695.0</td>\n",
       "      <td>3.921240</td>\n",
       "      <td>0.889012</td>\n",
       "      <td>0.5</td>\n",
       "      <td>3.5</td>\n",
       "      <td>4.0</td>\n",
       "      <td>4.5</td>\n",
       "      <td>5.0</td>\n",
       "    </tr>\n",
       "    <tr>\n",
       "      <th>1</th>\n",
       "      <td>2</td>\n",
       "      <td>22243.0</td>\n",
       "      <td>3.211977</td>\n",
       "      <td>0.951150</td>\n",
       "      <td>0.5</td>\n",
       "      <td>3.0</td>\n",
       "      <td>3.0</td>\n",
       "      <td>4.0</td>\n",
       "      <td>5.0</td>\n",
       "    </tr>\n",
       "    <tr>\n",
       "      <th>2</th>\n",
       "      <td>3</td>\n",
       "      <td>12735.0</td>\n",
       "      <td>3.151040</td>\n",
       "      <td>1.006642</td>\n",
       "      <td>0.5</td>\n",
       "      <td>3.0</td>\n",
       "      <td>3.0</td>\n",
       "      <td>4.0</td>\n",
       "      <td>5.0</td>\n",
       "    </tr>\n",
       "    <tr>\n",
       "      <th>3</th>\n",
       "      <td>4</td>\n",
       "      <td>2756.0</td>\n",
       "      <td>2.861393</td>\n",
       "      <td>1.095702</td>\n",
       "      <td>0.5</td>\n",
       "      <td>2.0</td>\n",
       "      <td>3.0</td>\n",
       "      <td>4.0</td>\n",
       "      <td>5.0</td>\n",
       "    </tr>\n",
       "    <tr>\n",
       "      <th>4</th>\n",
       "      <td>5</td>\n",
       "      <td>12161.0</td>\n",
       "      <td>3.064592</td>\n",
       "      <td>0.982140</td>\n",
       "      <td>0.5</td>\n",
       "      <td>3.0</td>\n",
       "      <td>3.0</td>\n",
       "      <td>4.0</td>\n",
       "      <td>5.0</td>\n",
       "    </tr>\n",
       "  </tbody>\n",
       "</table>\n",
       "</div>"
      ],
      "text/plain": [
       "   movieId    count      mean       std  min  25%  50%  75%  max\n",
       "0        1  49695.0  3.921240  0.889012  0.5  3.5  4.0  4.5  5.0\n",
       "1        2  22243.0  3.211977  0.951150  0.5  3.0  3.0  4.0  5.0\n",
       "2        3  12735.0  3.151040  1.006642  0.5  3.0  3.0  4.0  5.0\n",
       "3        4   2756.0  2.861393  1.095702  0.5  2.0  3.0  4.0  5.0\n",
       "4        5  12161.0  3.064592  0.982140  0.5  3.0  3.0  4.0  5.0"
      ]
     },
     "execution_count": 6,
     "metadata": {},
     "output_type": "execute_result"
    }
   ],
   "source": [
    "csv_file = \"Resources/transformed_ratings_data.csv\"\n",
    "ratings_df = pd.read_csv(csv_file)\n",
    "ratings_df.head()"
   ]
  },
  {
   "cell_type": "markdown",
   "metadata": {},
   "source": [
    "#### Not all movies have rating information"
   ]
  },
  {
   "cell_type": "code",
   "execution_count": 7,
   "metadata": {},
   "outputs": [
    {
     "name": "stdout",
     "output_type": "stream",
     "text": [
      "Total movies:27019, Total ratings:26744\n"
     ]
    }
   ],
   "source": [
    "print(f\"Total movies:{len(movies_df)}, Total ratings:{len(ratings_df)}\")"
   ]
  },
  {
   "cell_type": "code",
   "execution_count": 8,
   "metadata": {},
   "outputs": [
    {
     "data": {
      "text/html": [
       "<div>\n",
       "<style scoped>\n",
       "    .dataframe tbody tr th:only-of-type {\n",
       "        vertical-align: middle;\n",
       "    }\n",
       "\n",
       "    .dataframe tbody tr th {\n",
       "        vertical-align: top;\n",
       "    }\n",
       "\n",
       "    .dataframe thead th {\n",
       "        text-align: right;\n",
       "    }\n",
       "</style>\n",
       "<table border=\"1\" class=\"dataframe\">\n",
       "  <thead>\n",
       "    <tr style=\"text-align: right;\">\n",
       "      <th></th>\n",
       "      <th>movieId</th>\n",
       "      <th>Movie</th>\n",
       "      <th>Years</th>\n",
       "      <th>Genres</th>\n",
       "      <th>count</th>\n",
       "      <th>mean</th>\n",
       "      <th>std</th>\n",
       "      <th>min</th>\n",
       "      <th>25%</th>\n",
       "      <th>50%</th>\n",
       "      <th>75%</th>\n",
       "      <th>max</th>\n",
       "    </tr>\n",
       "  </thead>\n",
       "  <tbody>\n",
       "    <tr>\n",
       "      <th>0</th>\n",
       "      <td>1</td>\n",
       "      <td>Toy Story</td>\n",
       "      <td>1995</td>\n",
       "      <td>['Adventure', 'Animation', 'Children', 'Comedy...</td>\n",
       "      <td>49695.0</td>\n",
       "      <td>3.921240</td>\n",
       "      <td>0.889012</td>\n",
       "      <td>0.5</td>\n",
       "      <td>3.5</td>\n",
       "      <td>4.0</td>\n",
       "      <td>4.5</td>\n",
       "      <td>5.0</td>\n",
       "    </tr>\n",
       "    <tr>\n",
       "      <th>1</th>\n",
       "      <td>2</td>\n",
       "      <td>Jumanji</td>\n",
       "      <td>1995</td>\n",
       "      <td>['Adventure', 'Children', 'Fantasy']</td>\n",
       "      <td>22243.0</td>\n",
       "      <td>3.211977</td>\n",
       "      <td>0.951150</td>\n",
       "      <td>0.5</td>\n",
       "      <td>3.0</td>\n",
       "      <td>3.0</td>\n",
       "      <td>4.0</td>\n",
       "      <td>5.0</td>\n",
       "    </tr>\n",
       "    <tr>\n",
       "      <th>2</th>\n",
       "      <td>3</td>\n",
       "      <td>Grumpier Old Men</td>\n",
       "      <td>1995</td>\n",
       "      <td>['Comedy', 'Romance']</td>\n",
       "      <td>12735.0</td>\n",
       "      <td>3.151040</td>\n",
       "      <td>1.006642</td>\n",
       "      <td>0.5</td>\n",
       "      <td>3.0</td>\n",
       "      <td>3.0</td>\n",
       "      <td>4.0</td>\n",
       "      <td>5.0</td>\n",
       "    </tr>\n",
       "    <tr>\n",
       "      <th>3</th>\n",
       "      <td>4</td>\n",
       "      <td>Waiting to Exhale</td>\n",
       "      <td>1995</td>\n",
       "      <td>['Comedy', 'Drama', 'Romance']</td>\n",
       "      <td>2756.0</td>\n",
       "      <td>2.861393</td>\n",
       "      <td>1.095702</td>\n",
       "      <td>0.5</td>\n",
       "      <td>2.0</td>\n",
       "      <td>3.0</td>\n",
       "      <td>4.0</td>\n",
       "      <td>5.0</td>\n",
       "    </tr>\n",
       "    <tr>\n",
       "      <th>4</th>\n",
       "      <td>5</td>\n",
       "      <td>Father of the Bride Part II</td>\n",
       "      <td>1995</td>\n",
       "      <td>['Comedy']</td>\n",
       "      <td>12161.0</td>\n",
       "      <td>3.064592</td>\n",
       "      <td>0.982140</td>\n",
       "      <td>0.5</td>\n",
       "      <td>3.0</td>\n",
       "      <td>3.0</td>\n",
       "      <td>4.0</td>\n",
       "      <td>5.0</td>\n",
       "    </tr>\n",
       "  </tbody>\n",
       "</table>\n",
       "</div>"
      ],
      "text/plain": [
       "   movieId                         Movie  Years  \\\n",
       "0        1                    Toy Story    1995   \n",
       "1        2                      Jumanji    1995   \n",
       "2        3             Grumpier Old Men    1995   \n",
       "3        4            Waiting to Exhale    1995   \n",
       "4        5  Father of the Bride Part II    1995   \n",
       "\n",
       "                                              Genres    count      mean  \\\n",
       "0  ['Adventure', 'Animation', 'Children', 'Comedy...  49695.0  3.921240   \n",
       "1               ['Adventure', 'Children', 'Fantasy']  22243.0  3.211977   \n",
       "2                              ['Comedy', 'Romance']  12735.0  3.151040   \n",
       "3                     ['Comedy', 'Drama', 'Romance']   2756.0  2.861393   \n",
       "4                                         ['Comedy']  12161.0  3.064592   \n",
       "\n",
       "        std  min  25%  50%  75%  max  \n",
       "0  0.889012  0.5  3.5  4.0  4.5  5.0  \n",
       "1  0.951150  0.5  3.0  3.0  4.0  5.0  \n",
       "2  1.006642  0.5  3.0  3.0  4.0  5.0  \n",
       "3  1.095702  0.5  2.0  3.0  4.0  5.0  \n",
       "4  0.982140  0.5  3.0  3.0  4.0  5.0  "
      ]
     },
     "execution_count": 8,
     "metadata": {},
     "output_type": "execute_result"
    }
   ],
   "source": [
    "# Merge the two datasets\n",
    "movies_ratings_df = pd.merge(movies_df, ratings_df, how='left', on='movieId')\n",
    "movies_ratings_df.head()"
   ]
  },
  {
   "cell_type": "markdown",
   "metadata": {},
   "source": [
    "### Prepare Data Collections (Records)"
   ]
  },
  {
   "cell_type": "code",
   "execution_count": 9,
   "metadata": {},
   "outputs": [],
   "source": [
    "# Append data as STRINGS\n",
    "movie_collections_string = []\n",
    "for movie in range(len(movies_ratings_df)):\n",
    "    movie_collections_string.append(\n",
    "        {\n",
    "        'movieId': str(movies_ratings_df['movieId'][movie]),\n",
    "        'Name'   : movies_ratings_df['Movie'][movie].strip(),\n",
    "        'Year'   : str(movies_ratings_df['Years'][movie]),\n",
    "        'Generes': movies_ratings_df['Genres'][movie].translate(str.maketrans({\"[\": \"\", \"]\": \"\", \"'\": \"\"})).split(\",\"),\n",
    "        'Rate stats' : { \n",
    "            'Tot votes'    : str(movies_ratings_df['count'][movie]),\n",
    "            'Lowest rate'  : str(movies_ratings_df['min'][movie]), \n",
    "            'Highest rate' : str(movies_ratings_df['max'][movie]),\n",
    "            'Average rate' : str(round(movies_ratings_df['mean'][movie],2)),\n",
    "            'Std dev'      : str(round(movies_ratings_df['std'][movie],2)),\n",
    "            'Percentiles'  : {\n",
    "                '25%': str(movies_ratings_df['25%'][movie]),\n",
    "                '50%': str(movies_ratings_df['50%'][movie]),\n",
    "                '75%': str(movies_ratings_df['75%'][movie]),\n",
    "            }\n",
    "        }\n",
    "    })"
   ]
  },
  {
   "cell_type": "code",
   "execution_count": 10,
   "metadata": {},
   "outputs": [],
   "source": [
    "# append raw data\n",
    "movie_collections_raw = []\n",
    "for movie in range(len(movies_ratings_df)):\n",
    "    movie_collections_raw.append(\n",
    "        {\n",
    "        'movieId': movies_ratings_df['movieId'][movie],\n",
    "        'Name'   : movies_ratings_df['Movie'][movie].strip(),\n",
    "        'Year'   : movies_ratings_df['Years'][movie],\n",
    "        'Generes': movies_ratings_df['Genres'][movie].translate(str.maketrans({\"[\": \"\", \"]\": \"\", \"'\": \"\"})).split(\",\"),\n",
    "        'Rate stats' : { \n",
    "            'Tot votes'    : movies_ratings_df['count'][movie],\n",
    "            'Lowest rate'  : movies_ratings_df['min'][movie], \n",
    "            'Highest rate' : movies_ratings_df['max'][movie],\n",
    "            'Average rate' : round(movies_ratings_df['mean'][movie],2),\n",
    "            'Std dev'      : round(movies_ratings_df['std'][movie],2),\n",
    "            'Percentiles'  : {\n",
    "                '25%': movies_ratings_df['25%'][movie],\n",
    "                '50%': movies_ratings_df['50%'][movie],\n",
    "                '75%': movies_ratings_df['75%'][movie],\n",
    "            }\n",
    "        }\n",
    "    })"
   ]
  },
  {
   "cell_type": "markdown",
   "metadata": {},
   "source": [
    "### Inserting Data Collections in Mongo DB"
   ]
  },
  {
   "cell_type": "code",
   "execution_count": 11,
   "metadata": {},
   "outputs": [
    {
     "data": {
      "text/plain": [
       "<pymongo.results.InsertManyResult at 0x1ac20085c88>"
      ]
     },
     "execution_count": 11,
     "metadata": {},
     "output_type": "execute_result"
    }
   ],
   "source": [
    "ratings.insert_many(movie_collections_string)"
   ]
  },
  {
   "cell_type": "code",
   "execution_count": 12,
   "metadata": {},
   "outputs": [],
   "source": [
    "# ratings.insert_many(movie_collections_raw)"
   ]
  }
 ],
 "metadata": {
  "kernelspec": {
   "display_name": "Python 3",
   "language": "python",
   "name": "python3"
  },
  "language_info": {
   "codemirror_mode": {
    "name": "ipython",
    "version": 3
   },
   "file_extension": ".py",
   "mimetype": "text/x-python",
   "name": "python",
   "nbconvert_exporter": "python",
   "pygments_lexer": "ipython3",
   "version": "3.7.1"
  }
 },
 "nbformat": 4,
 "nbformat_minor": 2
}
