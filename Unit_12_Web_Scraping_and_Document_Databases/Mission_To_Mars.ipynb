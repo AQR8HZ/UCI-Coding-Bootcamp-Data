{
 "cells": [
  {
   "cell_type": "markdown",
   "metadata": {},
   "source": [
    "# Mission to Mars\n",
    "In this assignment, you will build a web application that scrapes various websites for data related to the Mission to Mars and displays the information in a single HTML page. The following outlines what you need to do.\n",
    "## Step 1 - Scraping"
   ]
  },
  {
   "cell_type": "code",
   "execution_count": 28,
   "metadata": {},
   "outputs": [],
   "source": [
    "from splinter import Browser\n",
    "from bs4 import BeautifulSoup"
   ]
  },
  {
   "cell_type": "code",
   "execution_count": 29,
   "metadata": {},
   "outputs": [],
   "source": [
    "executable_path = {'executable_path': 'chromedriver.exe'}\n",
    "browser = Browser('chrome', **executable_path, headless=False)"
   ]
  },
  {
   "cell_type": "markdown",
   "metadata": {},
   "source": [
    "### NASA Mars News\n",
    "* Scrape the NASA Mars News Site: http://mars.nasa.gov/news/\n",
    "* Collect the latest News Title and Paragraph Text\n",
    "* Assign the text to variables that you can reference later."
   ]
  },
  {
   "cell_type": "code",
   "execution_count": 30,
   "metadata": {},
   "outputs": [],
   "source": [
    "url = 'http://mars.nasa.gov/news/'\n",
    "browser.visit(url)"
   ]
  },
  {
   "cell_type": "code",
   "execution_count": 31,
   "metadata": {},
   "outputs": [
    {
     "name": "stdout",
     "output_type": "stream",
     "text": [
      "-----------\n",
      "Scraping Complete\n",
      "-----------\n",
      "-----------\n",
      "Scraping Complete\n",
      "-----------\n",
      "-----------\n",
      "Scraping Complete\n",
      "-----------\n",
      "-----------\n",
      "Scraping Complete\n",
      "-----------\n",
      "-----------\n",
      "Scraping Complete\n",
      "-----------\n",
      "-----------\n",
      "Scraping Complete\n",
      "-----------\n",
      "-----------\n",
      "Scraping Complete\n",
      "-----------\n",
      "-----------\n",
      "Scraping Complete\n",
      "-----------\n",
      "-----------\n",
      "Scraping Complete\n",
      "-----------\n",
      "-----------\n",
      "Scraping Complete\n",
      "-----------\n",
      "-----------\n",
      "Scraping Complete\n",
      "-----------\n",
      "-----------\n",
      "Scraping Complete\n",
      "-----------\n",
      "-----------\n",
      "Scraping Complete\n",
      "-----------\n",
      "-----------\n",
      "Scraping Complete\n",
      "-----------\n",
      "-----------\n",
      "Scraping Complete\n",
      "-----------\n",
      "-----------\n",
      "Scraping Complete\n",
      "-----------\n",
      "-----------\n",
      "Scraping Complete\n",
      "-----------\n",
      "-----------\n",
      "Scraping Complete\n",
      "-----------\n",
      "-----------\n",
      "Scraping Complete\n",
      "-----------\n",
      "-----------\n",
      "Scraping Complete\n",
      "-----------\n",
      "-----------\n",
      "Scraping Complete\n",
      "-----------\n",
      "-----------\n",
      "Scraping Complete\n",
      "-----------\n",
      "-----------\n",
      "Scraping Complete\n",
      "-----------\n",
      "-----------\n",
      "Scraping Complete\n",
      "-----------\n",
      "-----------\n",
      "Scraping Complete\n",
      "-----------\n",
      "-----------\n",
      "Scraping Complete\n",
      "-----------\n",
      "-----------\n",
      "Scraping Complete\n",
      "-----------\n",
      "-----------\n",
      "Scraping Complete\n",
      "-----------\n",
      "-----------\n",
      "Scraping Complete\n",
      "-----------\n",
      "-----------\n",
      "Scraping Complete\n",
      "-----------\n",
      "-----------\n",
      "Scraping Complete\n",
      "-----------\n",
      "-----------\n",
      "Scraping Complete\n",
      "-----------\n",
      "-----------\n",
      "Scraping Complete\n",
      "-----------\n",
      "-----------\n",
      "Scraping Complete\n",
      "-----------\n",
      "-----------\n",
      "Scraping Complete\n",
      "-----------\n",
      "-----------\n",
      "Scraping Complete\n",
      "-----------\n",
      "-----------\n",
      "Scraping Complete\n",
      "-----------\n",
      "-----------\n",
      "Scraping Complete\n",
      "-----------\n",
      "-----------\n",
      "Scraping Complete\n",
      "-----------\n",
      "-----------\n",
      "Scraping Complete\n",
      "-----------\n",
      "-----------\n",
      "Scraping Complete\n",
      "-----------\n",
      "-----------\n",
      "Scraping Complete\n",
      "-----------\n",
      "-----------\n",
      "Scraping Complete\n",
      "-----------\n",
      "-----------\n",
      "Scraping Complete\n",
      "-----------\n",
      "-----------\n",
      "Scraping Complete\n",
      "-----------\n",
      "-----------\n",
      "Scraping Complete\n",
      "-----------\n",
      "-----------\n",
      "Scraping Complete\n",
      "-----------\n",
      "-----------\n",
      "Scraping Complete\n",
      "-----------\n",
      "-----------\n",
      "Scraping Complete\n",
      "-----------\n",
      "-----------\n",
      "Scraping Complete\n",
      "-----------\n"
     ]
    }
   ],
   "source": [
    "# Iterate through all pages\n",
    "for x in range(50):\n",
    "    # HTML object\n",
    "    html = browser.html\n",
    "    # Parse HTML with Beautiful Soup\n",
    "    soup = BeautifulSoup(html, 'html.parser')\n",
    "    # Retrieve all elements that contain book information\n",
    "    slides = soup.find_all('li', class_='slide')\n",
    "\n",
    "    # Iterate through each book\n",
    "    for slide in slides:\n",
    "        # Use Beautiful Soup's find() method to navigate and retrieve attributes\n",
    "\n",
    "        # News Date\n",
    "        list_date = slide.find('div', class_='list_date')\n",
    "        article_date = list_date.text.strip()\n",
    "        \n",
    "        # News Title\n",
    "        content_title = slide.find('div', class_='content_title')\n",
    "        news_title = content_title.text.strip()\n",
    "        link = content_title.find('a')\n",
    "        href = link['href']\n",
    "        \n",
    "        #Paragraph Body\n",
    "        teaser_body = slide.find('div', class_='article_teaser_body')\n",
    "        news_p = teaser_body.text.strip()\n",
    "        \n",
    "        \n",
    "#        print('-----------')\n",
    "#        print(article_date)\n",
    "#        print(news_title)\n",
    "#        print(news_p)\n",
    "#        print(\"https://mars.nasa.gov\" + href)\n",
    "\n",
    "    # Click the 'Next' button on each page\n",
    "    try:\n",
    "        browser.click_link_by_partial_text('more')\n",
    "          \n",
    "    except:\n",
    "        print('-----------')\n",
    "        print(\"Scraping Complete\")\n",
    "        print('-----------')"
   ]
  },
  {
   "cell_type": "markdown",
   "metadata": {},
   "source": [
    "### JPL Mars Space Images - Featured Image\n",
    "* Visit the url for JPL Featured Space Image here:  https://www.jpl.nasa.gov/spaceimages/?search=&category=Mars\n",
    "* Use splinter to navigate the site and find the image url for the current Featured Mars Image and assign the url string to a variable called featured_image_url.\n",
    "* Make sure to find the image url to the full size .jpg image.\n",
    "* Make sure to save a complete url string for this image."
   ]
  },
  {
   "cell_type": "code",
   "execution_count": 32,
   "metadata": {},
   "outputs": [],
   "source": [
    "url = 'https://www.jpl.nasa.gov/spaceimages/?search=&category=Mars'\n",
    "browser.visit(url)"
   ]
  },
  {
   "cell_type": "code",
   "execution_count": null,
   "metadata": {},
   "outputs": [],
   "source": [
    "# Design an XPATH selector to grab the \"Mars in natural color in 2007\" image on the right\n",
    "xpath = '//p//JPG'"
   ]
  },
  {
   "cell_type": "code",
   "execution_count": 48,
   "metadata": {},
   "outputs": [
    {
     "name": "stdout",
     "output_type": "stream",
     "text": [
      "<aside class=\"image_detail_module\">\n",
      "<h1 class=\"sidebar_title\">Image Details</h1>\n",
      "<ul>\n",
      "<li><div class=\"mission\"><p>Mission: <a href=\"index.php?search=Mars+Exploration+Rover+%28MER%29\">Mars Exploration Rover (MER)</a></p></div></li><li><div class=\"mission\"><p>Target: <a href=\"index.php?search=Mars\">Mars</a></p></div></li><li><div class=\"mission\"><p>Spacecraft: <a href=\"index.php?search=Opportunity\">Opportunity</a></p></div></li><li><div class=\"mission\"><p>Instrument: <a href=\"index.php?search=Microscopic+Imager\">Microscopic Imager</a></p></div></li><li><div class=\"views\"><p>Views: 4,692</p></div></li><li>\n",
      "<div class=\"download_tiff\">\n",
      "<p>Full-Res TIFF: <a href=\"//photojournal.jpl.nasa.gov/tiff/PIA19113.tif\">PIA19113.tif</a></p>\n",
      "</div>\n",
      "</li><li>\n",
      "<div class=\"download_tiff\">\n",
      "<p>Full-Res JPG: <a href=\"//photojournal.jpl.nasa.gov/jpeg/PIA19113.jpg\">PIA19113.jpg</a></p>\n",
      "</div>\n",
      "</li><li>\n",
      "<div class=\"credit\">\n",
      "<p>Image credit: NASA/JPL-Caltech/Cornell/USGS</p>\n",
      "</div>\n",
      "</li> </ul>\n",
      "</aside>\n"
     ]
    }
   ],
   "source": [
    "# Identify the feature image\n",
    "\n",
    "# HTML object\n",
    "html = browser.html\n",
    "# Parse HTML with Beautiful Soup\n",
    "soup = BeautifulSoup(html, 'html.parser')\n",
    "\n",
    "# Retrieve all elements that contain book information\n",
    "# column = soup.find('div', class_='secondary_column')\n",
    "\n",
    "image_detail = soup.find('aside', class_='image_detail_module')\n",
    "\n",
    "href = image_detail['href']\n",
    "\n",
    "xpath = '//td//a[@class=\"image\"]/img'\n",
    "\n",
    "print(image_detail)\n",
    "\n",
    "#full_res = image_detail.find('p', 'JPG')\n",
    "#link_to_image = 'https://www.jpl.nasa.gov'+ box['data-link']\n",
    "# link_to_image\n",
    "\n",
    "\n",
    "#featured_image_url = 'https://www.jpl.nasa.gov'+ href\n",
    "#featured_image_url"
   ]
  },
  {
   "cell_type": "code",
   "execution_count": 46,
   "metadata": {},
   "outputs": [],
   "source": [
    "url = link_to_image\n",
    "browser.visit(url)"
   ]
  },
  {
   "cell_type": "code",
   "execution_count": null,
   "metadata": {},
   "outputs": [],
   "source": [
    "# Identify the full size image\n",
    "\n",
    "# HTML object\n",
    "html = browser.html\n",
    "# Parse HTML with Beautiful Soup\n",
    "soup = BeautifulSoup(html, 'html.parser')\n",
    "# Retrieve all elements that contain book information\n",
    "box = soup.find('a', class_='button fancybox')\n",
    "link_to_image = 'https://www.jpl.nasa.gov'+ box['data-link']\n",
    "link_to_image"
   ]
  },
  {
   "cell_type": "code",
   "execution_count": null,
   "metadata": {},
   "outputs": [],
   "source": []
  },
  {
   "cell_type": "code",
   "execution_count": 14,
   "metadata": {},
   "outputs": [
    {
     "ename": "NameError",
     "evalue": "name 'xpath' is not defined",
     "output_type": "error",
     "traceback": [
      "\u001b[1;31m---------------------------------------------------------------------------\u001b[0m",
      "\u001b[1;31mNameError\u001b[0m                                 Traceback (most recent call last)",
      "\u001b[1;32m<ipython-input-14-5646c35fdca1>\u001b[0m in \u001b[0;36m<module>\u001b[1;34m\u001b[0m\n\u001b[0;32m      1\u001b[0m \u001b[1;31m# Use splinter to Click the \"Mars in natural color in 2007\" image\u001b[0m\u001b[1;33m\u001b[0m\u001b[1;33m\u001b[0m\u001b[1;33m\u001b[0m\u001b[0m\n\u001b[0;32m      2\u001b[0m \u001b[1;31m# to bring up the full resolution image\u001b[0m\u001b[1;33m\u001b[0m\u001b[1;33m\u001b[0m\u001b[1;33m\u001b[0m\u001b[0m\n\u001b[1;32m----> 3\u001b[1;33m \u001b[0mresults\u001b[0m \u001b[1;33m=\u001b[0m \u001b[0mbrowser\u001b[0m\u001b[1;33m.\u001b[0m\u001b[0mfind_by_xpath\u001b[0m\u001b[1;33m(\u001b[0m\u001b[0mxpath\u001b[0m\u001b[1;33m)\u001b[0m\u001b[1;33m\u001b[0m\u001b[1;33m\u001b[0m\u001b[0m\n\u001b[0m\u001b[0;32m      4\u001b[0m \u001b[0mimg\u001b[0m \u001b[1;33m=\u001b[0m \u001b[0mresults\u001b[0m\u001b[1;33m[\u001b[0m\u001b[1;36m0\u001b[0m\u001b[1;33m]\u001b[0m\u001b[1;33m\u001b[0m\u001b[1;33m\u001b[0m\u001b[0m\n\u001b[0;32m      5\u001b[0m \u001b[0mimg\u001b[0m\u001b[1;33m.\u001b[0m\u001b[0mclick\u001b[0m\u001b[1;33m(\u001b[0m\u001b[1;33m)\u001b[0m\u001b[1;33m\u001b[0m\u001b[1;33m\u001b[0m\u001b[0m\n",
      "\u001b[1;31mNameError\u001b[0m: name 'xpath' is not defined"
     ]
    }
   ],
   "source": [
    "# Use splinter to Click the \"Mars in natural color in 2007\" image \n",
    "# to bring up the full resolution image\n",
    "results = browser.find_by_xpath(xpath)\n",
    "img = results[0]\n",
    "img.click()"
   ]
  },
  {
   "cell_type": "markdown",
   "metadata": {},
   "source": [
    "### Mars Weather\n",
    "\n",
    "* Visit the Mars Weather twitter account here: https://twitter.com/marswxreport?lang=en\n",
    "* Scrape the latest Mars weather tweet from the page. \n",
    "* Save the tweet text for the weather report as a variable called mars_weather."
   ]
  },
  {
   "cell_type": "code",
   "execution_count": null,
   "metadata": {},
   "outputs": [],
   "source": []
  },
  {
   "cell_type": "markdown",
   "metadata": {},
   "source": [
    "### Mars Facts\n",
    "* Visit the Mars Facts webpage here:\n",
    "    https://space-facts.com/mars/\n",
    "* Use Pandas to scrape the table containing facts about the planet including Diameter, Mass, etc.\n",
    "* Use Pandas to convert the data to a HTML table string."
   ]
  },
  {
   "cell_type": "code",
   "execution_count": null,
   "metadata": {},
   "outputs": [],
   "source": []
  },
  {
   "cell_type": "markdown",
   "metadata": {},
   "source": [
    "### Mars Hemispheres\n",
    "\n",
    "* Visit the USGS Astrogeology site here to obtain high resolution images for each of Mar's hemispheres.\n",
    "* You will need to click each of the links to the hemispheres in order to find the image url to the full resolution image.\n",
    "* Save both the image url string for the full resolution hemisphere image, and the Hemisphere title containing the hemisphere name. Use a Python dictionary to store the data using the keys img_url and title.\n",
    "* Append the dictionary with the image url string and the hemisphere title to a list. This list will contain one dictionary for each hemisphere."
   ]
  },
  {
   "cell_type": "code",
   "execution_count": null,
   "metadata": {},
   "outputs": [],
   "source": []
  },
  {
   "cell_type": "code",
   "execution_count": null,
   "metadata": {},
   "outputs": [],
   "source": []
  },
  {
   "cell_type": "code",
   "execution_count": null,
   "metadata": {},
   "outputs": [],
   "source": []
  }
 ],
 "metadata": {
  "kernelspec": {
   "display_name": "Python 3",
   "language": "python",
   "name": "python3"
  },
  "language_info": {
   "codemirror_mode": {
    "name": "ipython",
    "version": 3
   },
   "file_extension": ".py",
   "mimetype": "text/x-python",
   "name": "python",
   "nbconvert_exporter": "python",
   "pygments_lexer": "ipython3",
   "version": "3.7.1"
  }
 },
 "nbformat": 4,
 "nbformat_minor": 2
}
